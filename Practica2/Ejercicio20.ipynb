{
  "nbformat": 4,
  "nbformat_minor": 0,
  "metadata": {
    "colab": {
      "provenance": [],
      "authorship_tag": "ABX9TyPRwbSklFYVnCp2C7btqh8i",
      "include_colab_link": true
    },
    "kernelspec": {
      "name": "python3",
      "display_name": "Python 3"
    },
    "language_info": {
      "name": "python"
    }
  },
  "cells": [
    {
      "cell_type": "markdown",
      "metadata": {
        "id": "view-in-github",
        "colab_type": "text"
      },
      "source": [
        "<a href=\"https://colab.research.google.com/github/GonorAndres/Analisis_Numerico_2025-2/blob/main/Practica2/Ejercicio20.ipynb\" target=\"_parent\"><img src=\"https://colab.research.google.com/assets/colab-badge.svg\" alt=\"Open In Colab\"/></a>"
      ]
    },
    {
      "cell_type": "markdown",
      "source": [
        "### Ejercicio 20\n",
        "\n",
        "Dado el sistema \\( Ax = b \\):\n",
        "\n",
        "#### (a) Resolver con **eliminación Gaussiana** para:\n",
        "\n",
        "\n",
        "$$ A = \\begin{bmatrix}\n",
        "2 & 4 & -2 \\\\\n",
        "4 & 9 & -3 \\\\\n",
        "-2 & -1 & 7\n",
        "\\end{bmatrix} ;\n",
        "b =\n",
        "\\begin{bmatrix}\n",
        "2 \\\\\n",
        "8 \\\\\n",
        "10\n",
        "\\end{bmatrix} $$\n",
        "\n",
        "\n",
        "#### (b) Usar **factorización LU** de \\( A \\) para resolver el sistema $ Ay = c $, donde:\n",
        "\n",
        "$$\n",
        "c =\n",
        "\\begin{bmatrix}\n",
        "4 \\\\\n",
        "8 \\\\\n",
        "-6\n",
        "\\end{bmatrix}\n",
        "$$\n"
      ],
      "metadata": {
        "id": "V6ijsjYH7CLc"
      }
    },
    {
      "cell_type": "code",
      "execution_count": null,
      "metadata": {
        "id": "AElhYX8j454q"
      },
      "outputs": [],
      "source": [
        "#Funciones de la clase\n",
        "\n",
        "import numpy as np\n",
        "from numpy import linalg as LA\n",
        "\n",
        "\n",
        "def SustitucionDelante(Mat, b):\n",
        "    \"\"\"\n",
        "    Realiza la sustitución hacia adelante para resolver un sistema de ecuaciones lineales\n",
        "    representado por una matriz triangular inferior.\n",
        "\n",
        "    Parámetros:\n",
        "    -----------\n",
        "    Mat : numpy.ndarray\n",
        "        Una matriz triangular inferior de tamaño n x n.\n",
        "    b : numpy.ndarray\n",
        "        Un vector de términos independientes de tamaño n.\n",
        "\n",
        "    Retorna:\n",
        "    --------\n",
        "    x : numpy.ndarray\n",
        "        Un vector solución de tamaño n que satisface la ecuación Mat @ x = b.\n",
        "\n",
        "    Descripción:\n",
        "    ------------\n",
        "    Esta función resuelve un sistema de ecuaciones lineales de la forma Mat @ x = b,\n",
        "    donde Mat es una matriz triangular inferior. Utiliza el método de sustitución hacia adelante,\n",
        "    comenzando desde la primera fila de la matriz y avanzando hacia la última.\n",
        "\n",
        "    Ejemplo:\n",
        "    --------\n",
        "    >>> Mat = np.array([[1, 0, 0],\n",
        "    ...                 [2, 3, 0],\n",
        "    ...                 [4, 5, 6]])\n",
        "    >>> b = np.array([1, 8, 32])\n",
        "    >>> SustitucionDelante(Mat, b)\n",
        "    array([1., 2., 3.])\n",
        "    \"\"\"\n",
        "    n = Mat.shape[0]\n",
        "    x = np.zeros(n)\n",
        "\n",
        "    for i in range(n):\n",
        "        SumCum = 0.0\n",
        "        for j in range(i):\n",
        "            SumCum += Mat[i, j] * x[j]\n",
        "        x[i] = (b[i] - SumCum) / Mat[i, i]\n",
        "\n",
        "    return x\n",
        "\n",
        "def SustitucionAtras(Mat, b):\n",
        "    \"\"\"\n",
        "    Realiza la sustitución hacia atrás para resolver un sistema de ecuaciones lineales\n",
        "    representado por una matriz triangular superior.\n",
        "\n",
        "    Parámetros:\n",
        "    -----------\n",
        "    Mat : numpy.ndarray\n",
        "        Una matriz triangular superior de tamaño n x n.\n",
        "    b : numpy.ndarray\n",
        "        Un vector de términos independientes de tamaño n.\n",
        "\n",
        "    Retorna:\n",
        "    --------\n",
        "    x : numpy.ndarray\n",
        "        Un vector solución de tamaño n que satisface la ecuación Mat @ x = b.\n",
        "\n",
        "    Descripción:\n",
        "    ------------\n",
        "    Esta función resuelve un sistema de ecuaciones lineales de la forma Mat @ x = b,\n",
        "    donde Mat es una matriz triangular superior. Utiliza el método de sustitución hacia atrás,\n",
        "    comenzando desde la última fila de la matriz y avanzando hacia la primera.\n",
        "\n",
        "    Ejemplo:\n",
        "    --------\n",
        "    >>> Mat = np.array([[3, 2, 1],\n",
        "    ...                 [0, 2, 1],\n",
        "    ...                 [0, 0, 1]])\n",
        "    >>> b = np.array([6, 4, 1])\n",
        "    >>> SustitucionAtras(Mat, b)\n",
        "    array([1., 1., 1.])\n",
        "    \"\"\"\n",
        "    n = Mat.shape[0]\n",
        "    x = np.zeros(n)\n",
        "\n",
        "    for i in range(n-1, -1, -1):\n",
        "        SumCum = 0.0\n",
        "        for j in range(i+1, n):\n",
        "            SumCum += Mat[i, j] * x[j]\n",
        "        x[i] = (b[i] - SumCum) / Mat[i, i]\n",
        "\n",
        "    return x\n",
        "\n",
        "def LU(A):\n",
        "  U=np.copy(A)\n",
        "  L=np.eye(A.shape[0])\n",
        "\n",
        "  for i in range(A.shape[0]):\n",
        "    Li=np.eye(A.shape[0])\n",
        "    for j in range(i+1,A.shape[0]):\n",
        "      Li[j,i]=-U[j,i]/U[i,i]\n",
        "      L[j,i]=U[j,i]/U[i,i]\n",
        "    U=Li@U\n",
        "  return L,U\n",
        "\n",
        "def SolverLU(A,b):\n",
        "  L,U=LU(A)\n",
        "  # El sistema que se resuelve es Ly=b\n",
        "  y=SustitucionDelante(L, b)\n",
        "  # El sistema que se resuelve es Ux=y\n",
        "  x=SustitucionAtras(U, y)\n",
        "\n",
        "  return x"
      ]
    },
    {
      "cell_type": "code",
      "source": [
        "#Algoritmo sustituación Gaussiana\n",
        "def elim_gauss(A, b):\n",
        "    n = len(b)\n",
        "\n",
        "    for k in range(n - 1): # el rango es uno menos que el numero de filas porque para la ultima fila solo habrá un elemento y ya no es posible usar el pivote para eliminar más variables pues solo existe una y\n",
        "        if (A[k, k] == 0):\n",
        "            print(\"Pivote nulo, error al realizar el algoritmo\")\n",
        "            return\n",
        "\n",
        "        for i in range(k + 1, n): # empezamos en la fila debajo del pivote es decir la fila k + 1, seguimos recorriendo cada fila hasta que todas las entradas de la columna debajo de la elemento k,k sean cero\n",
        "            m = A[i, k] / A[k, k]\n",
        "            A[i, k:] = A[i, k:] - (m * A[k, k:]) # restamos la fila del pivote a la fila de cada renglon después del pivote k, empezamos desde la diagonal porque por definición los elementos antes de esta ya son cero\n",
        "            b[i] = b[i]- (m * b[k]) # también aplicamos la operación a las igualdades del sistema\n",
        "\n",
        "    # usamos el algoritmo para resolver una ecuación triangular vista en clase\n",
        "\n",
        "    x = SustitucionAtras(A, b)\n",
        "\n",
        "    return x\n"
      ],
      "metadata": {
        "id": "jukoa6Z97n3H"
      },
      "execution_count": null,
      "outputs": []
    },
    {
      "cell_type": "markdown",
      "source": [
        "#### (a) Resolver con **eliminación Gaussiana** para:\n",
        "\n",
        "\n",
        "$$ A = \\begin{bmatrix}\n",
        "2 & 4 & -2 \\\\\n",
        "4 & 9 & -3 \\\\\n",
        "-2 & -1 & 7\n",
        "\\end{bmatrix} ;\n",
        "b =\n",
        "\\begin{bmatrix}\n",
        "2 \\\\\n",
        "8 \\\\\n",
        "10\n",
        "\\end{bmatrix} $$"
      ],
      "metadata": {
        "id": "QJNP_GXIAcUk"
      }
    },
    {
      "cell_type": "code",
      "source": [
        "#Ejericio a\n",
        "A = np.array([[ 2.0,  4, -2],\n",
        "              [ 4,  9, -3],\n",
        "              [-2, -1,  7]])\n",
        "b = np.array([2.0, 8, 10])\n",
        "\n",
        "x = elim_gauss(A, b)\n",
        "print(x)        # [-7,  4,  0] hecho en calculadora"
      ],
      "metadata": {
        "colab": {
          "base_uri": "https://localhost:8080/"
        },
        "id": "F6UkavGg_uLd",
        "outputId": "40d82e7e-2a82-417b-eca2-8f1a493f1772"
      },
      "execution_count": null,
      "outputs": [
        {
          "output_type": "stream",
          "name": "stdout",
          "text": [
            "[-7.  4.  0.]\n"
          ]
        }
      ]
    },
    {
      "cell_type": "markdown",
      "source": [
        "#### (b) Usar **factorización LU** de \\( A \\) para resolver el sistema $ Ay = c $, donde:\n",
        "\n",
        "$$\n",
        "c =\n",
        "\\begin{bmatrix}\n",
        "4 \\\\\n",
        "8 \\\\\n",
        "-6\n",
        "\\end{bmatrix}\n",
        "$$"
      ],
      "metadata": {
        "id": "LS7dlve8Al8X"
      }
    },
    {
      "cell_type": "code",
      "source": [
        "#Ejericio b\n",
        "A = np.array([[ 2.0,  4, -2],\n",
        "              [ 4,  9, -3],\n",
        "              [-2, -1,  7]])\n",
        "c = np.array([4.0, 8, -6])\n",
        "\n",
        "x = SolverLU(A,c)\n",
        "\n",
        "print(x)"
      ],
      "metadata": {
        "colab": {
          "base_uri": "https://localhost:8080/"
        },
        "id": "pXIRspZ7Avq6",
        "outputId": "d5d5cd29-62ac-4eb1-c52e-321160765b61"
      },
      "execution_count": null,
      "outputs": [
        {
          "output_type": "stream",
          "name": "stdout",
          "text": [
            "[-1.  1. -1.]\n"
          ]
        }
      ]
    }
  ]
}