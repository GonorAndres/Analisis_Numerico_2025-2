{
  "nbformat": 4,
  "nbformat_minor": 0,
  "metadata": {
    "colab": {
      "provenance": [],
      "authorship_tag": "ABX9TyOk3glpmhhtvlYt4YN/yLbz",
      "include_colab_link": true
    },
    "kernelspec": {
      "name": "python3",
      "display_name": "Python 3"
    },
    "language_info": {
      "name": "python"
    }
  },
  "cells": [
    {
      "cell_type": "markdown",
      "metadata": {
        "id": "view-in-github",
        "colab_type": "text"
      },
      "source": [
        "<a href=\"https://colab.research.google.com/github/GonorAndres/Analisis_Numerico_2025-2/blob/main/Practica2/Ejercicio25.ipynb\" target=\"_parent\"><img src=\"https://colab.research.google.com/assets/colab-badge.svg\" alt=\"Open In Colab\"/></a>"
      ]
    },
    {
      "cell_type": "markdown",
      "source": [
        "### Ejercicio 25\n",
        "\n",
        "Programar la **Factorización de Cholesky** dada por:\n",
        "\n",
        "- (a) $A = LL^T$, con $L$ triangular inferior.\n",
        "\n",
        "\n"
      ],
      "metadata": {
        "id": "rbi-zyV-lJyU"
      }
    },
    {
      "cell_type": "code",
      "source": [
        "import numpy as np\n",
        "# Factorización de Cholesky clásica: A = L @ L.T\n",
        "# Aquí no verificamos que la matriz sea definida positiva pero si se usa este algoritmo se da por hecho que el usuaria sabe que es una matriz definida positiva\n",
        "def cholesky_clasica(A):\n",
        "    n = A.shape[0]\n",
        "    L = np.zeros_like(A)\n",
        "\n",
        "    for i in range(n):\n",
        "        for j in range(i+1): # empezamos en el renglón depues del pivote i así que el numero de elementos del renglon debajo de la diagonal es (i+1) y garantizamos que siempre j=<i, una matriz triangular inferior\n",
        "            cumsum = 0.0\n",
        "            for k in range(j):\n",
        "              cumsum += L[i][k]*L[j][k]\n",
        "            if i == j: # en las diagonales el proceso es diferente\n",
        "                L[i][j] = np.sqrt(A[i][i] - cumsum)\n",
        "            else: # en los renglones aplicamos el algoritmo de eliminación cholesky\n",
        "                L[i][j] = (A[i][j] - cumsum) / L[j][j]\n",
        "    if not np.allclose(L @ L.T, A):\n",
        "        L = print(\"La matriz no es definida positiva ERROR\")\n",
        "\n",
        "    return L"
      ],
      "metadata": {
        "id": "lTOGHWwclQ2h"
      },
      "execution_count": null,
      "outputs": []
    },
    {
      "cell_type": "code",
      "source": [
        "A1 = np.array([[6, 3, 4],\n",
        "               [3, 6, 5],\n",
        "               [4, 5, 10]], dtype=float)\n",
        "L1 = cholesky_clasica(A1)\n",
        "print(L1)"
      ],
      "metadata": {
        "colab": {
          "base_uri": "https://localhost:8080/"
        },
        "id": "ORwfHjOCyMKE",
        "outputId": "4fd7dd57-843d-4627-c2ed-1d25450ff565"
      },
      "execution_count": null,
      "outputs": [
        {
          "output_type": "stream",
          "name": "stdout",
          "text": [
            "[[2.44948974 0.         0.        ]\n",
            " [1.22474487 2.12132034 0.        ]\n",
            " [1.63299316 1.41421356 2.30940108]]\n"
          ]
        }
      ]
    },
    {
      "cell_type": "markdown",
      "source": [
        "- (b) $A = \\hat{L} \\hat{D} \\hat{L}^T$, con $\\hat{L}$ triangular inferior y $\\hat{D}$ diagonal."
      ],
      "metadata": {
        "id": "q5wj1ACMlOQj"
      }
    },
    {
      "cell_type": "code",
      "source": [
        "def cholesky_LDLT(A):\n",
        "    n = A.shape[0]\n",
        "    L = np.eye(n)   # L con 1s en la diagonal\n",
        "    D = np.zeros(n) # para el vector lleno de las entradas de la diagonal\n",
        "\n",
        "    for i in range(n):\n",
        "        for j in range(i):\n",
        "            suma = 0.0\n",
        "            for k in range(j):\n",
        "                suma += L[i][k] * D[k] * L[j][k] #sumamos la combinación lineales\n",
        "\n",
        "            L[i][j] = (A[i][j] - suma) / D[j] #hacemos la eliminación y la división no será cero porque el ciclo solo se ejecuta recién en la segunda vuelta\n",
        "\n",
        "        suma_diag = 0.0\n",
        "        for k in range(i):\n",
        "            suma_diag += (L[i][k] ** 2) * D[k] #sacamos la escala para D\n",
        "\n",
        "        D[i] = A[i][i] - suma_diag\n",
        "\n",
        "    D = np.diag(D) # convertimos el vector de la diagonal en una matriz diagonal\n",
        "\n",
        "    if not np.allclose(L @ D @ L.T, A):\n",
        "      R = print(\"La matriz no es definida positiva ERROR\")\n",
        "    else:\n",
        "      R = L, D\n",
        "\n",
        "    return R"
      ],
      "metadata": {
        "id": "Mm3aLFxRvgXU"
      },
      "execution_count": null,
      "outputs": []
    },
    {
      "cell_type": "code",
      "source": [
        "A1 = np.array([[6, 3, 4],\n",
        "               [3, 6, 5],\n",
        "               [4, 5, 10]], dtype=float)\n",
        "C1 = cholesky_LDLT(A1)\n",
        "\n",
        "print(C1[0],\"\\n\", C1[1])"
      ],
      "metadata": {
        "colab": {
          "base_uri": "https://localhost:8080/"
        },
        "id": "iFj2HeV9y-5L",
        "outputId": "cbd16cd4-80c2-4864-b926-4b00526821d6"
      },
      "execution_count": null,
      "outputs": [
        {
          "output_type": "stream",
          "name": "stdout",
          "text": [
            "[[1.         0.         0.        ]\n",
            " [0.5        1.         0.        ]\n",
            " [0.66666667 0.66666667 1.        ]] \n",
            " [[6.         0.         0.        ]\n",
            " [0.         4.5        0.        ]\n",
            " [0.         0.         5.33333333]]\n"
          ]
        }
      ]
    }
  ]
}