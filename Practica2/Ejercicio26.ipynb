{
  "nbformat": 4,
  "nbformat_minor": 0,
  "metadata": {
    "colab": {
      "provenance": [],
      "authorship_tag": "ABX9TyPyhzk9deTyJpYcaVeVCPXh",
      "include_colab_link": true
    },
    "kernelspec": {
      "name": "python3",
      "display_name": "Python 3"
    },
    "language_info": {
      "name": "python"
    }
  },
  "cells": [
    {
      "cell_type": "markdown",
      "metadata": {
        "id": "view-in-github",
        "colab_type": "text"
      },
      "source": [
        "<a href=\"https://colab.research.google.com/github/GonorAndres/Analisis_Numerico_2025-2/blob/main/Practica2/Ejercicio26.ipynb\" target=\"_parent\"><img src=\"https://colab.research.google.com/assets/colab-badge.svg\" alt=\"Open In Colab\"/></a>"
      ]
    },
    {
      "cell_type": "markdown",
      "source": [
        "### Ejercicio 26 - Factorización de Cholesky\n",
        "\n",
        "Encontrar la factorización de Cholesky de $A$ para las siguientes matrices:\n",
        "\n",
        "$$\n",
        "A = \\begin{bmatrix}\n",
        "2 & -1 & 0 \\\\\n",
        "-1 & 2 & -1 \\\\\n",
        "0 & -1 & 2\n",
        "\\end{bmatrix}$$\n",
        "\n",
        "\n",
        "Utilizando:\n",
        "\n",
        "- (a) $A = LL^T$  \n",
        "- (b) $A = \\hat{L} \\hat{D} \\hat{L}^T$"
      ],
      "metadata": {
        "id": "rbi-zyV-lJyU"
      }
    },
    {
      "cell_type": "code",
      "source": [
        "import numpy as np\n",
        "# Factorización de Cholesky clásica: A = L @ L.T\n",
        "# Aquí no verificamos que la matriz sea definida positiva pero si se usa este algoritmo se da por hecho que el usuaria sabe que es una matriz definida positiva\n",
        "def cholesky(A):\n",
        "    n = A.shape[0]\n",
        "    L = np.zeros_like(A)\n",
        "\n",
        "    for i in range(n):\n",
        "        for j in range(i+1): # empezamos en el renglón depues del pivote i así que el numero de elementos del renglon debajo de la diagonal es (i+1) y garantizamos que siempre j=<i, una matriz triangular inferior\n",
        "            cumsum = 0.0\n",
        "            for k in range(j):\n",
        "              cumsum += L[i][k]*L[j][k]\n",
        "            if i == j: # en las diagonales el proceso es diferente\n",
        "                L[i][j] = np.sqrt(A[i][i] - cumsum)\n",
        "            else: # en los renglones aplicamos el algoritmo de eliminación cholesky\n",
        "                L[i][j] = (A[i][j] - cumsum) / L[j][j]\n",
        "    if not np.allclose(L @ L.T, A):\n",
        "        L = print(\"La matriz no es definida positiva ERROR\")\n",
        "\n",
        "    return L"
      ],
      "metadata": {
        "id": "lTOGHWwclQ2h"
      },
      "execution_count": 36,
      "outputs": []
    },
    {
      "cell_type": "code",
      "source": [
        "def cholesky_LDLT(A):\n",
        "    n = A.shape[0]\n",
        "    L = np.eye(n)   # L con 1s en la diagonal\n",
        "    D = np.zeros(n) # para el vector lleno de las entradas de la diagonal\n",
        "\n",
        "    for i in range(n):\n",
        "        for j in range(i):\n",
        "            suma = 0.0\n",
        "            for k in range(j):\n",
        "                suma += L[i][k] * D[k] * L[j][k] #sumamos la combinación lineales\n",
        "\n",
        "            L[i][j] = (A[i][j] - suma) / D[j] #hacemos la eliminación y la división no será cero porque el ciclo solo se ejecuta recién en la segunda vuelta\n",
        "\n",
        "        suma_diag = 0.0\n",
        "        for k in range(i):\n",
        "            suma_diag += (L[i][k] ** 2) * D[k] #sacamos la escala para D\n",
        "\n",
        "        D[i] = A[i][i] - suma_diag\n",
        "\n",
        "    D = np.diag(D) # convertimos el vector de la diagonal en una matriz diagonal\n",
        "\n",
        "    if not np.allclose(L @ D @ L.T, A):\n",
        "      R = print(\"La matriz no es definida positiva ERROR\")\n",
        "    else:\n",
        "      R = L, D\n",
        "\n",
        "    return R"
      ],
      "metadata": {
        "id": "Mm3aLFxRvgXU"
      },
      "execution_count": 37,
      "outputs": []
    },
    {
      "cell_type": "code",
      "source": [
        "# Matriz A\n",
        "A = np.array([\n",
        "    [2, -1, 0],\n",
        "    [-1, 2, -1],\n",
        "    [0, -1, 2]\n",
        "], dtype=float)\n",
        "\n",
        "M = A\n",
        "\n",
        "print(f\"Matriz L de LDL^T:\\n{cholesky(M)}\\n\")\n",
        "print(f\"Matriz L de LDLT\\n{cholesky_LDLT(M)[0]} y \\nmatrid D\\n{cholesky_LDLT(M)[1]}\")"
      ],
      "metadata": {
        "colab": {
          "base_uri": "https://localhost:8080/"
        },
        "id": "CE6n6v_F6W6f",
        "outputId": "7fb25c74-6aab-451a-b10c-4155d9831d04"
      },
      "execution_count": 39,
      "outputs": [
        {
          "output_type": "stream",
          "name": "stdout",
          "text": [
            "Matriz L de LDL^T:\n",
            "[[ 1.41421356  0.          0.        ]\n",
            " [-0.70710678  1.22474487  0.        ]\n",
            " [ 0.         -0.81649658  1.15470054]]\n",
            "\n",
            "Matriz L de LDLT\n",
            "[[ 1.          0.          0.        ]\n",
            " [-0.5         1.          0.        ]\n",
            " [ 0.         -0.66666667  1.        ]] y \n",
            "matrid D\n",
            "[[2.         0.         0.        ]\n",
            " [0.         1.5        0.        ]\n",
            " [0.         0.         1.33333333]]\n"
          ]
        }
      ]
    },
    {
      "cell_type": "markdown",
      "source": [
        "$$B = \\begin{bmatrix}\n",
        "4 & 1 & 1 & 1 \\\\\n",
        "1 & 3 & -1 & 1 \\\\\n",
        "1 & -1 & 2 & 0 \\\\\n",
        "1 & 1 & 0 & 2\n",
        "\\end{bmatrix}\n",
        "$$\n",
        "\n",
        "\n",
        "Utilizando:\n",
        "\n",
        "- (a) $A = LL^T$  \n",
        "- (b) $A = \\hat{L} \\hat{D} \\hat{L}^T$"
      ],
      "metadata": {
        "id": "8fH_2QQU6CRO"
      }
    },
    {
      "cell_type": "code",
      "source": [
        "# Matriz B\n",
        "B = np.array([\n",
        "    [4, 1, 1, 1],\n",
        "    [1, 3, -1, 1],\n",
        "    [1, -1, 2, 0],\n",
        "    [1, 1, 0, 2]\n",
        "], dtype=float)\n",
        "\n",
        "M = B\n",
        "\n",
        "print(f\"Matriz L de LDL^T:\\n{cholesky(M)}\\n\")\n",
        "print(f\"Matriz L de LDLT\\n{cholesky_LDLT(M)[0]} y \\nmatrid D\\n{cholesky_LDLT(M)[1]}\")"
      ],
      "metadata": {
        "colab": {
          "base_uri": "https://localhost:8080/"
        },
        "id": "lGptEKd-6HRL",
        "outputId": "bf1dc8b5-209b-4695-a685-8371ca23be54"
      },
      "execution_count": 40,
      "outputs": [
        {
          "output_type": "stream",
          "name": "stdout",
          "text": [
            "Matriz L de LDL^T:\n",
            "[[ 2.          0.          0.          0.        ]\n",
            " [ 0.5         1.6583124   0.          0.        ]\n",
            " [ 0.5        -0.75377836  1.08711461  0.        ]\n",
            " [ 0.5         0.45226702  0.0836242   1.24034735]]\n",
            "\n",
            "Matriz L de LDLT\n",
            "[[ 1.          0.          0.          0.        ]\n",
            " [ 0.25        1.          0.          0.        ]\n",
            " [ 0.25       -0.45454545  1.          0.        ]\n",
            " [ 0.25        0.27272727  0.07692308  1.        ]] y \n",
            "matrid D\n",
            "[[4.         0.         0.         0.        ]\n",
            " [0.         2.75       0.         0.        ]\n",
            " [0.         0.         1.18181818 0.        ]\n",
            " [0.         0.         0.         1.53846154]]\n"
          ]
        }
      ]
    },
    {
      "cell_type": "markdown",
      "source": [
        "\n",
        "$$\n",
        "C = \\begin{bmatrix}\n",
        "4 & 1 & -1 & 0 \\\\\n",
        "1 & 3 & -1 & 0 \\\\\n",
        "-1 & -1 & 5 & 2 \\\\\n",
        "0 & 0 & 2 & 4\n",
        "\\end{bmatrix}$$\n",
        "\n",
        "Utilizando:\n",
        "\n",
        "- (a) $A = LL^T$  \n",
        "- (b) $A = \\hat{L} \\hat{D} \\hat{L}^T$"
      ],
      "metadata": {
        "id": "xzzeMntT6H6L"
      }
    },
    {
      "cell_type": "code",
      "source": [
        "\n",
        "# Matriz C\n",
        "C = np.array([\n",
        "    [4, 1, -1, 0],\n",
        "    [1, 3, -1, 0],\n",
        "    [-1, -1, 5, 2],\n",
        "    [0, 0, 2, 4]\n",
        "], dtype=float)\n",
        "\n",
        "M = C\n",
        "\n",
        "print(f\"Matriz L de LDL^T:\\n{cholesky(M)}\\n\")\n",
        "print(f\"Matriz L de LDLT\\n{cholesky_LDLT(M)[0]} y \\nmatrid D\\n{cholesky_LDLT(M)[1]}\")\n"
      ],
      "metadata": {
        "colab": {
          "base_uri": "https://localhost:8080/"
        },
        "id": "5tRg-SZr6L-R",
        "outputId": "be56b8cc-8863-40f7-ba5e-cba5b3fb9fe7"
      },
      "execution_count": 41,
      "outputs": [
        {
          "output_type": "stream",
          "name": "stdout",
          "text": [
            "Matriz L de LDL^T:\n",
            "[[ 2.          0.          0.          0.        ]\n",
            " [ 0.5         1.6583124   0.          0.        ]\n",
            " [-0.5        -0.45226702  2.13200716  0.        ]\n",
            " [ 0.          0.          0.93808315  1.76635217]]\n",
            "\n",
            "Matriz L de LDLT\n",
            "[[ 1.          0.          0.          0.        ]\n",
            " [ 0.25        1.          0.          0.        ]\n",
            " [-0.25       -0.27272727  1.          0.        ]\n",
            " [ 0.          0.          0.44        1.        ]] y \n",
            "matrid D\n",
            "[[4.         0.         0.         0.        ]\n",
            " [0.         2.75       0.         0.        ]\n",
            " [0.         0.         4.54545455 0.        ]\n",
            " [0.         0.         0.         3.12      ]]\n"
          ]
        }
      ]
    },
    {
      "cell_type": "markdown",
      "source": [
        "$$\n",
        "D = \\begin{bmatrix}\n",
        "6 & 2 & 1 & -1 \\\\\n",
        "2 & 4 & 1 & 0 \\\\\n",
        "1 & 1 & 4 & -1 \\\\\n",
        "-1 & 0 & -1 & 3\n",
        "\\end{bmatrix}\n",
        "$$\n",
        "\n",
        "Utilizando:\n",
        "\n",
        "- (a) $A = LL^T$  \n",
        "- (b) $A = \\hat{L} \\hat{D} \\hat{L}^T$"
      ],
      "metadata": {
        "id": "r5D4VHAa6MaZ"
      }
    },
    {
      "cell_type": "code",
      "source": [
        "\n",
        "# Matriz D\n",
        "D = np.array([\n",
        "    [6, 2, 1, -1],\n",
        "    [2, 4, 1, 0],\n",
        "    [1, 1, 4, -1],\n",
        "    [-1, 0, -1, 3]\n",
        "], dtype=float)\n",
        "\n",
        "M = D\n",
        "\n",
        "print(f\"Matriz L de LDL^T:\\n{cholesky(M)}\\n\")\n",
        "print(f\"Matriz L de LDLT\\n{cholesky_LDLT(M)[0]} y \\nmatrid D\\n{cholesky_LDLT(M)[1]}\")"
      ],
      "metadata": {
        "colab": {
          "base_uri": "https://localhost:8080/"
        },
        "id": "bm5t3GQM6kIh",
        "outputId": "47068345-0997-49fa-e00c-05421cae0e5c"
      },
      "execution_count": 42,
      "outputs": [
        {
          "output_type": "stream",
          "name": "stdout",
          "text": [
            "Matriz L de LDL^T:\n",
            "[[ 2.44948974  0.          0.          0.        ]\n",
            " [ 0.81649658  1.82574186  0.          0.        ]\n",
            " [ 0.40824829  0.36514837  1.92353841  0.        ]\n",
            " [-0.40824829  0.18257419 -0.46788772  1.60657433]]\n",
            "\n",
            "Matriz L de LDLT\n",
            "[[ 1.          0.          0.          0.        ]\n",
            " [ 0.33333333  1.          0.          0.        ]\n",
            " [ 0.16666667  0.2         1.          0.        ]\n",
            " [-0.16666667  0.1        -0.24324324  1.        ]] y \n",
            "matrid D\n",
            "[[6.         0.         0.         0.        ]\n",
            " [0.         3.33333333 0.         0.        ]\n",
            " [0.         0.         3.7        0.        ]\n",
            " [0.         0.         0.         2.58108108]]\n"
          ]
        }
      ]
    }
  ]
}