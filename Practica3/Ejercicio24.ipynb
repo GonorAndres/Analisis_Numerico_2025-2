{
  "nbformat": 4,
  "nbformat_minor": 0,
  "metadata": {
    "colab": {
      "provenance": [],
      "authorship_tag": "ABX9TyP9mRZShNdF+OY6Kq4bRT1e",
      "include_colab_link": true
    },
    "kernelspec": {
      "name": "python3",
      "display_name": "Python 3"
    },
    "language_info": {
      "name": "python"
    }
  },
  "cells": [
    {
      "cell_type": "markdown",
      "metadata": {
        "id": "view-in-github",
        "colab_type": "text"
      },
      "source": [
        "<a href=\"https://colab.research.google.com/github/GonorAndres/Analisis_Numerico_2025-2/blob/main/Practica3/Ejercicio24.ipynb\" target=\"_parent\"><img src=\"https://colab.research.google.com/assets/colab-badge.svg\" alt=\"Open In Colab\"/></a>"
      ]
    },
    {
      "cell_type": "code",
      "source": [
        "import numpy as np\n",
        "from numpy.linalg import cond, norm\n",
        "from math import acos, degrees\n",
        "\n",
        "import pandas as pd\n",
        "\n",
        "def resolver_sistema_por_gauss(A, b):\n",
        "    \"\"\"Resuelve Ax = b usando eliminación de Gauss sin pivoteo.\"\"\"\n",
        "    A = A.astype(float)\n",
        "    b = b.astype(float)\n",
        "    n = len(b)\n",
        "\n",
        "    for i in range(n):\n",
        "        for j in range(i + 1, n):\n",
        "            factor = A[j, i] / A[i, i]\n",
        "            A[j, i:] -= factor * A[i, i:]\n",
        "            b[j] -= factor * b[i]\n",
        "\n",
        "    x = np.zeros(n)\n",
        "    for i in reversed(range(n)):\n",
        "        x[i] = (b[i] - np.dot(A[i, i+1:], x[i+1:])) / A[i, i]\n",
        "\n",
        "    return x\n",
        "\n",
        "def minimos_cuadrados_manual(A, b):\n",
        "    AtA = A.T @ A\n",
        "    Atb = A.T @ b\n",
        "    return resolver_sistema_por_gauss(AtA.copy(), Atb.copy())\n",
        "\n",
        "def condicion_matriz_linalg(A):\n",
        "    return cond(A, 2)"
      ],
      "metadata": {
        "id": "UKb2wrP6O-5P"
      },
      "execution_count": 1,
      "outputs": []
    },
    {
      "cell_type": "code",
      "execution_count": 4,
      "metadata": {
        "colab": {
          "base_uri": "https://localhost:8080/"
        },
        "id": "piQojqz3Q50i",
        "outputId": "4f148b01-20f9-4164-d69a-0b79905e5b26"
      },
      "outputs": [
        {
          "output_type": "stream",
          "name": "stderr",
          "text": [
            "<ipython-input-1-06bc9e1a296b>:15: RuntimeWarning: invalid value encountered in scalar divide\n",
            "  factor = A[j, i] / A[i, i]\n"
          ]
        }
      ],
      "source": [
        "# Ejercicio 24: Evaluar la sensibilidad de un sistema mal condicionado\n",
        "\n",
        "# Matriz A del sistema\n",
        "A_24 = np.array([\n",
        "    [1, 1, 1],\n",
        "    [1e-10, 0, 0],\n",
        "    [0, 1e-10, 0],\n",
        "    [0, 0, 1e-10]\n",
        "])\n",
        "\n",
        "# Vector b\n",
        "b_24 = np.array([1, 0, 0, 0])\n",
        "\n",
        "# Evaluamos con tres valores de epsilon: 1e-8, 1e-12, 1e-16 (dentro del rango máquina)\n",
        "epsilons = [1e-8, 1e-12, 1e-16]\n",
        "resultados = []\n",
        "\n",
        "for eps in epsilons:\n",
        "    A_eps = np.array([\n",
        "        [1, 1, 1],\n",
        "        [eps, 0, 0],\n",
        "        [0, eps, 0],\n",
        "        [0, 0, eps]\n",
        "    ])\n",
        "    x_eps = minimos_cuadrados_manual(A_eps, b_24)\n",
        "    b_tilde_eps = A_eps @ x_eps\n",
        "    residuo_eps = norm(b_24 - b_tilde_eps)\n",
        "    resultados.append({\n",
        "        \"ϵ\": eps,\n",
        "        \"x̃ (redondeado)\": x_eps,\n",
        "        \"||b - Ax̃||\": residuo_eps\n",
        "    })\n",
        "\n",
        "# Mostrar resultados\n",
        "df_24 = pd.DataFrame(resultados)"
      ]
    },
    {
      "cell_type": "markdown",
      "source": [
        "Concluimos que el sistema esta mal condicionado"
      ],
      "metadata": {
        "id": "Q6ei-yYTW7x0"
      }
    }
  ]
}