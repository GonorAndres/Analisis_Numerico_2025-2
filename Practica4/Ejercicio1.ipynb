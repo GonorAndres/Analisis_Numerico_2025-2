{
  "nbformat": 4,
  "nbformat_minor": 0,
  "metadata": {
    "colab": {
      "provenance": [],
      "authorship_tag": "ABX9TyP76IGI7CB0/H6pEYJmHD/3",
      "include_colab_link": true
    },
    "kernelspec": {
      "name": "python3",
      "display_name": "Python 3"
    },
    "language_info": {
      "name": "python"
    }
  },
  "cells": [
    {
      "cell_type": "markdown",
      "metadata": {
        "id": "view-in-github",
        "colab_type": "text"
      },
      "source": [
        "<a href=\"https://colab.research.google.com/github/GonorAndres/Analisis_Numerico_2025-2/blob/main/Practica4/Ejercicio1.ipynb\" target=\"_parent\"><img src=\"https://colab.research.google.com/assets/colab-badge.svg\" alt=\"Open In Colab\"/></a>"
      ]
    },
    {
      "cell_type": "code",
      "execution_count": 1,
      "metadata": {
        "id": "jtuJ32eW_HZC"
      },
      "outputs": [],
      "source": [
        "def biseccion(f, a, b, tol=.00001, max_iter=500):\n",
        "    \"\"\"\n",
        "    Método de Bisección para encontrar una raíz de f en el intervalo [a, b].\n",
        "    Parámetros:\n",
        "        f        : función\n",
        "        a, b     : extremos del intervalo inicial\n",
        "        tol      : tolerancia deseada\n",
        "        max_iter : número máximo de iteraciones\n",
        "    Devuelve:\n",
        "        numero al que converge y si no converge un mensaje de error.\n",
        "    \"\"\"\n",
        "\n",
        "    # Verifica que haya un cambio de signo en [a, b]\n",
        "    if f(a) * f(b) >= 0:\n",
        "        return None, \"No se cumple f(a)*f(b) < 0: no garantiza una raíz.\"\n",
        "\n",
        "    for i in range(max_iter):\n",
        "        c = (a + b) / 2  # Calcula el punto medio del intervalo\n",
        "        fc = f(c)        # Evalúa la función en el punto medio\n",
        "\n",
        "        # Verifica si se alcanzó la tolerancia en valor absoluto o en tamaño del intervalo\n",
        "        if abs(fc) < tol or abs(b - a) / 2 < tol:\n",
        "            return c, f\"Convergencia en {i+1} iteraciones.\"\n",
        "\n",
        "        # Decide en qué subintervalo continuar\n",
        "        if f(a) * fc < 0:\n",
        "            b = c  # La raíz está en [a, c]\n",
        "        else:\n",
        "            a = c  # La raíz está en [c, b]\n",
        "\n",
        "    # Si no converge tras max_iter, se informa\n",
        "    return None, \"Resultado por encima de la toleracia\"\n"
      ]
    },
    {
      "cell_type": "code",
      "source": [
        "def newton(f, df, x0, tol=0.0001, max_iter=500):\n",
        "    \"\"\"\n",
        "    Método de Newton-Raphson para encontrar una raíz de f, dado un punto inicial x0.\n",
        "    Parámetros:\n",
        "        f        : función\n",
        "        df       : derivada de la función\n",
        "        x0       : punto inicial\n",
        "        tol      : tolerancia deseada\n",
        "        max_iter : número máximo de iteraciones\n",
        "    Devuelve:\n",
        "        El número al que converge y si no converge un mensaje de error.\n",
        "    \"\"\"\n",
        "\n",
        "    x = x0  # Inicializa con el punto inicial dado\n",
        "\n",
        "    for i in range(max_iter):\n",
        "        fx = f(x)       # Evalúa la función en x\n",
        "        dfx = df(x)     # Evalúa la derivada en x\n",
        "\n",
        "        # Si la derivada es cero, no se puede dividir\n",
        "        if dfx == 0:\n",
        "            return None, \"Problemas al obtener la derivadada en el punto\"\n",
        "\n",
        "        x_new = x - fx / dfx  # Aplica la fórmula de Newton\n",
        "\n",
        "        # Verifica si la diferencia es menor que la tolerancia\n",
        "        if abs(x_new - x) < tol:\n",
        "            return x_new, f\"Convergencia en {i+1} iteraciones.\"\n",
        "\n",
        "        x = x_new  # Actualiza el valor de x\n",
        "\n",
        "    return None, \"No se cumple la toleracia pedida\"\n"
      ],
      "metadata": {
        "id": "ugY7--p2_z_s"
      },
      "execution_count": 3,
      "outputs": []
    },
    {
      "cell_type": "code",
      "source": [
        "def secante(f, x0, x1, tol=.00001, max_iter=500):\n",
        "    \"\"\"\n",
        "    Método de la Secante para encontrar una raíz de f, usando dos puntos iniciales.\n",
        "    Parámetros:\n",
        "        f        : función\n",
        "        x0, x1   : puntos iniciales\n",
        "        tol      : tolerancia deseada\n",
        "        max_iter : número máximo de iteraciones\n",
        "    Devuelve:\n",
        "        Numero al que converge y un mensaje de error si no converge.\n",
        "    \"\"\"\n",
        "\n",
        "    for i in range(max_iter):\n",
        "        f0 = f(x0)  # Evalúa f en x0\n",
        "        f1 = f(x1)  # Evalúa f en x1\n",
        "\n",
        "        # Verifica que no haya división por cero\n",
        "        if f1 - f0 == 0:\n",
        "            return None, \"División entre cero. Error.\"\n",
        "\n",
        "        # Calcula siguiente aproximación usando la fórmula de la secante\n",
        "        x2 = x1 - f1 * (x1 - x0) / (f1 - f0)\n",
        "\n",
        "        # Verifica si la diferencia entre iteraciones es menor a la tolerancia\n",
        "        if abs(x2 - x1) < tol:\n",
        "            return x2, f\"Convergencia en {i+1} iteraciones.\"\n",
        "\n",
        "        # Actualiza valores para la siguiente iteración\n",
        "        x0, x1 = x1, x2\n",
        "\n",
        "    return None, \"No cumple con la tolerancia especificada\"\n"
      ],
      "metadata": {
        "id": "MeJqD-_aBcjy"
      },
      "execution_count": 7,
      "outputs": []
    },
    {
      "cell_type": "markdown",
      "source": [
        "Algunos ejemplo del uso de la función para hallar los ceros"
      ],
      "metadata": {
        "id": "G-KTVcjZCFSp"
      }
    },
    {
      "cell_type": "code",
      "source": [
        "import numpy as np\n",
        "\n",
        "f_bis = lambda x: np.cos(x) - x\n",
        "raiz_bis, msg_bis = biseccion(f_bis, 0, 1, tol=1e-5)\n",
        "print(\"Método de Bisección:\")\n",
        "print(\"Raíz:\", raiz_bis)\n",
        "print(\"Mensaje:\", msg_bis)\n"
      ],
      "metadata": {
        "colab": {
          "base_uri": "https://localhost:8080/"
        },
        "id": "fDPua905CEEE",
        "outputId": "ba345496-ce3c-4fbf-e517-f492aac6ed8c"
      },
      "execution_count": 4,
      "outputs": [
        {
          "output_type": "stream",
          "name": "stdout",
          "text": [
            "Método de Bisección:\n",
            "Raíz: 0.7390899658203125\n",
            "Mensaje: Convergencia en 16 iteraciones.\n"
          ]
        }
      ]
    },
    {
      "cell_type": "code",
      "source": [
        "f_new = lambda x: np.log(x) - 1\n",
        "df_new = lambda x: 1 / x\n",
        "raiz_new, msg_new = newton(f_new, df_new, 2, tol=1e-5)\n",
        "print(\"\\nMétodo de Newton-Raphson:\")\n",
        "print(\"Raíz:\", raiz_new)\n",
        "print(\"Mensaje:\", msg_new)\n"
      ],
      "metadata": {
        "colab": {
          "base_uri": "https://localhost:8080/"
        },
        "id": "fJDZhum_CNGp",
        "outputId": "968ece30-4a73-4852-ed2f-8631ab612f22"
      },
      "execution_count": 5,
      "outputs": [
        {
          "output_type": "stream",
          "name": "stdout",
          "text": [
            "\n",
            "Método de Newton-Raphson:\n",
            "Raíz: 2.7182818284589376\n",
            "Mensaje: Convergencia en 4 iteraciones.\n"
          ]
        }
      ]
    },
    {
      "cell_type": "code",
      "source": [
        "f_sec = lambda x: x**3 - 7*x + 6\n",
        "raiz_sec, msg_sec = secante(f_sec, 0.5, 1.5, tol=1e-5)\n",
        "print(\"\\nMétodo de la Secante:\")\n",
        "print(\"Raíz:\", raiz_sec)\n",
        "print(\"Mensaje:\", msg_sec)\n"
      ],
      "metadata": {
        "colab": {
          "base_uri": "https://localhost:8080/"
        },
        "id": "iUmQI9ZeCR-R",
        "outputId": "1f4ab3c4-b079-44b3-e3fe-fa40d89f7f0d"
      },
      "execution_count": 8,
      "outputs": [
        {
          "output_type": "stream",
          "name": "stdout",
          "text": [
            "\n",
            "Método de la Secante:\n",
            "Raíz: 1.000000000065071\n",
            "Mensaje: Convergencia en 7 iteraciones.\n"
          ]
        }
      ]
    }
  ]
}