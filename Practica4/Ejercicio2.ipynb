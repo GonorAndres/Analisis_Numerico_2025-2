{
  "nbformat": 4,
  "nbformat_minor": 0,
  "metadata": {
    "colab": {
      "provenance": [],
      "authorship_tag": "ABX9TyONu7l065SNdwM/pI4DqPAu",
      "include_colab_link": true
    },
    "kernelspec": {
      "name": "python3",
      "display_name": "Python 3"
    },
    "language_info": {
      "name": "python"
    }
  },
  "cells": [
    {
      "cell_type": "markdown",
      "metadata": {
        "id": "view-in-github",
        "colab_type": "text"
      },
      "source": [
        "<a href=\"https://colab.research.google.com/github/GonorAndres/Analisis_Numerico_2025-2/blob/main/Practica4/Ejercicio2.ipynb\" target=\"_parent\"><img src=\"https://colab.research.google.com/assets/colab-badge.svg\" alt=\"Open In Colab\"/></a>"
      ]
    },
    {
      "cell_type": "code",
      "source": [
        "import math\n",
        "# -------------------------------------------------------------\n",
        "# EJERCICIO 2a\n",
        "# -------------------------------------------------------------\n",
        "# Enunciado:\n",
        "# Usar el método de bisección para encontrar una raíz de\n",
        "# f(x) = x - 2^(-x), en el intervalo [0, 1] con tolerancia 1e-5\n",
        "\n",
        "f2a = lambda x: x - math.pow(2,-x)\n",
        "raiz_2a, msg_2a = biseccion(f2a, 0, 1, tol=1e-5)\n",
        "\n",
        "print(\"Ejercicio 2a:\")\n",
        "print(\"Raíz encontrada:\", raiz_2a)\n",
        "print(\"Mensaje:\", msg_2a)"
      ],
      "metadata": {
        "colab": {
          "base_uri": "https://localhost:8080/"
        },
        "id": "MNZtWtXsDtgX",
        "outputId": "a243cd97-cc72-4fd8-ca2a-589208e356a7"
      },
      "execution_count": 34,
      "outputs": [
        {
          "output_type": "stream",
          "name": "stdout",
          "text": [
            "Ejercicio 2a:\n",
            "Raíz encontrada: 0.6411895751953125\n",
            "Mensaje: Convergencia en 16 iteraciones.\n"
          ]
        }
      ]
    },
    {
      "cell_type": "code",
      "source": [
        "# -------------------------------------------------------------\n",
        "# EJERCICIO 2b - Intervalo [-3, -2]\n",
        "# -------------------------------------------------------------\n",
        "# Enunciado:\n",
        "# Usar el método de bisección para f(x) = 2x cos(2x) - (x + 1)^2\n",
        "# en el intervalo [-3, -2] con tolerancia 1e-5\n",
        "\n",
        "f2b = lambda x: 2 * x * np.cos(2 * x) - (x + 1)**2\n",
        "raiz_2b1, msg_2b1 = biseccion(f2b, -3, -2, tol=1e-5)\n",
        "\n",
        "print(\"\\nEjercicio 2b - Intervalo [-3, -2]:\")\n",
        "print(\"Raíz encontrada:\", raiz_2b1)\n",
        "print(\"Mensaje:\", msg_2b1)\n",
        "\n"
      ],
      "metadata": {
        "colab": {
          "base_uri": "https://localhost:8080/"
        },
        "id": "_7eCzQGFDzm8",
        "outputId": "f7cbe6c3-ebd8-400e-b09c-68a22f27a6cb"
      },
      "execution_count": 35,
      "outputs": [
        {
          "output_type": "stream",
          "name": "stdout",
          "text": [
            "\n",
            "Ejercicio 2b - Intervalo [-3, -2]:\n",
            "Raíz encontrada: -2.1913070678710938\n",
            "Mensaje: Convergencia en 17 iteraciones.\n"
          ]
        }
      ]
    },
    {
      "cell_type": "code",
      "source": [
        "# -------------------------------------------------------------\n",
        "# EJERCICIO 2b - Intervalo [-1, 0]\n",
        "# -------------------------------------------------------------\n",
        "# Este intervalo sí cumple con el cambio de signo\n",
        "\n",
        "raiz_2b2, msg_2b2 = biseccion(f2b, -1, 0, tol=1e-5)\n",
        "\n",
        "print(\"\\nEjercicio 2b - Intervalo [-1, 0]:\")\n",
        "print(\"Raíz encontrada:\", raiz_2b2)\n",
        "print(\"Mensaje:\", msg_2b2)"
      ],
      "metadata": {
        "colab": {
          "base_uri": "https://localhost:8080/"
        },
        "id": "vK02flN0D1lF",
        "outputId": "5f957c2d-6c54-4ea1-ee61-4269bce4226a"
      },
      "execution_count": 36,
      "outputs": [
        {
          "output_type": "stream",
          "name": "stdout",
          "text": [
            "\n",
            "Ejercicio 2b - Intervalo [-1, 0]:\n",
            "Raíz encontrada: -0.7981643676757812\n",
            "Mensaje: Convergencia en 17 iteraciones.\n"
          ]
        }
      ]
    },
    {
      "cell_type": "code",
      "execution_count": 23,
      "metadata": {
        "id": "jtuJ32eW_HZC"
      },
      "outputs": [],
      "source": [
        "def biseccion(f, a, b, tol=0.0001, max_iter=100):\n",
        "    \"\"\"\n",
        "    Método de Bisección para encontrar una raíz de f en el intervalo [a, b].\n",
        "    Parámetros:\n",
        "        f        : función\n",
        "        a, b     : extremos del intervalo inicial\n",
        "        tol      : tolerancia deseada\n",
        "        max_iter : número máximo de iteraciones\n",
        "    Devuelve:\n",
        "        numero al que converge y si no converge un mensaje de error.\n",
        "    \"\"\"\n",
        "\n",
        "    # Verifica que haya un cambio de signo en [a, b]\n",
        "    if f(a) * f(b) >= 0:\n",
        "        return None, \"No se cumple f(a)*f(b) < 0: no garantiza una raíz.\"\n",
        "\n",
        "    for i in range(max_iter):\n",
        "        c = (a + b) / 2  # Calcula el punto medio del intervalo\n",
        "        fc = f(c)        # Evalúa la función en el punto medio\n",
        "\n",
        "        # Verifica si se alcanzó la tolerancia en valor absoluto o en tamaño del intervalo\n",
        "        if abs(fc) < tol or abs(b - a) / 2 < tol:\n",
        "            return c, f\"Convergencia en {i+1} iteraciones.\"\n",
        "\n",
        "        # Decide en qué subintervalo continuar\n",
        "        if f(a) * fc < 0:\n",
        "            b = c  # La raíz está en [a, c]\n",
        "        else:\n",
        "            a = c  # La raíz está en [c, b]\n",
        "\n",
        "    # Si no converge tras max_iter, se informa\n",
        "    return None, \"Resultado por encima de la toleracia\"\n"
      ]
    },
    {
      "cell_type": "code",
      "source": [
        "def newton(f, df, x0, tol=0.0001, max_iter=100):\n",
        "    \"\"\"\n",
        "    Método de Newton-Raphson para encontrar una raíz de f, dado un punto inicial x0.\n",
        "    Parámetros:\n",
        "        f        : función\n",
        "        df       : derivada de la función\n",
        "        x0       : punto inicial\n",
        "        tol      : tolerancia deseada\n",
        "        max_iter : número máximo de iteraciones\n",
        "    Devuelve:\n",
        "        El número al que converge y si no converge un mensaje de error.\n",
        "    \"\"\"\n",
        "\n",
        "    x = x0  # Inicializa con el punto inicial dado\n",
        "\n",
        "    for i in range(max_iter):\n",
        "        fx = f(x)       # Evalúa la función en x\n",
        "        dfx = df(x)     # Evalúa la derivada en x\n",
        "\n",
        "        # Si la derivada es cero, no se puede dividir\n",
        "        if dfx == 0:\n",
        "            return None, \"Problemas al obtener la derivadada en el punto\"\n",
        "\n",
        "        x_new = x - fx / dfx  # Aplica la fórmula de Newton\n",
        "\n",
        "        # Verifica si la diferencia es menor que la tolerancia\n",
        "        if abs(x_new - x) < tol:\n",
        "            return x_new, f\"Convergencia en {i+1} iteraciones.\"\n",
        "\n",
        "        x = x_new  # Actualiza el valor de x\n",
        "\n",
        "    return None, \"No se cumple la toleracia pedida\"\n"
      ],
      "metadata": {
        "id": "ugY7--p2_z_s"
      },
      "execution_count": 24,
      "outputs": []
    },
    {
      "cell_type": "code",
      "source": [
        "def secante(f, x0, x1, tol=.00001, max_iter=100):\n",
        "    \"\"\"\n",
        "    Método de la Secante para encontrar una raíz de f, usando dos puntos iniciales.\n",
        "    Parámetros:\n",
        "        f        : función\n",
        "        x0, x1   : puntos iniciales\n",
        "        tol      : tolerancia deseada\n",
        "        max_iter : número máximo de iteraciones\n",
        "    Devuelve:\n",
        "        Numero al que converge y un mensaje de error si no converge.\n",
        "    \"\"\"\n",
        "\n",
        "    for i in range(max_iter):\n",
        "        f0 = f(x0)  # Evalúa f en x0\n",
        "        f1 = f(x1)  # Evalúa f en x1\n",
        "\n",
        "        # Verifica que no haya división por cero\n",
        "        if f1 - f0 == 0:\n",
        "            return None, \"División entre cero. Error.\"\n",
        "\n",
        "        # Calcula siguiente aproximación usando la fórmula de la secante\n",
        "        x2 = x1 - f1 * (x1 - x0) / (f1 - f0)\n",
        "\n",
        "        # Verifica si la diferencia entre iteraciones es menor a la tolerancia\n",
        "        if abs(x2 - x1) < tol:\n",
        "            return x2, f\"Convergencia en {i+1} iteraciones.\"\n",
        "\n",
        "        # Actualiza valores para la siguiente iteración\n",
        "        x0, x1 = x1, x2\n",
        "\n",
        "    return None, \"No cumple con la tolerancia especificada\"\n"
      ],
      "metadata": {
        "id": "MeJqD-_aBcjy"
      },
      "execution_count": 25,
      "outputs": []
    }
  ]
}