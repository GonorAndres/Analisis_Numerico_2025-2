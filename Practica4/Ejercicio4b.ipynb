{
  "nbformat": 4,
  "nbformat_minor": 0,
  "metadata": {
    "colab": {
      "provenance": [],
      "authorship_tag": "ABX9TyNzQ0smAXdB2FQqaJGsz02B",
      "include_colab_link": true
    },
    "kernelspec": {
      "name": "python3",
      "display_name": "Python 3"
    },
    "language_info": {
      "name": "python"
    }
  },
  "cells": [
    {
      "cell_type": "markdown",
      "metadata": {
        "id": "view-in-github",
        "colab_type": "text"
      },
      "source": [
        "<a href=\"https://colab.research.google.com/github/GonorAndres/Analisis_Numerico_2025-2/blob/main/Practica4/Ejercicio4b.ipynb\" target=\"_parent\"><img src=\"https://colab.research.google.com/assets/colab-badge.svg\" alt=\"Open In Colab\"/></a>"
      ]
    },
    {
      "cell_type": "code",
      "source": [
        "# Ejercicio 4b: Mtodo de Bisección para √3 con impresión paso a paso\n",
        "\n",
        "def biseccion_detallado(f, a, b, tol=1e-4, max_iter=100):\n",
        "    \"\"\"\n",
        "    Metodo de Bisección con impresión de cada iteración.\n",
        "    \"\"\"\n",
        "\n",
        "    print(f\"{'Iteración':<10} {'a':<10} {'b':<10} {'c':<10} {'f(c)':<12}\")\n",
        "    print(\"-\" * 52)\n",
        "\n",
        "    if f(a) * f(b) >= 0:\n",
        "        print(\"Error: No se cumple f(a) * f(b) < 0\")\n",
        "        return None, \"No hay cambio de signo\"\n",
        "\n",
        "    for i in range(1, max_iter + 1):\n",
        "        c = (a + b) / 2\n",
        "        fc = f(c)\n",
        "\n",
        "        # Imprimir datos de la iteración actual\n",
        "        print(f\"{i:<10} {a:<10.5f} {b:<10.5f} {c:<10.5f} {fc:<12.5f}\")\n",
        "\n",
        "        if abs(fc) < tol or abs(b - a) / 2 < tol:\n",
        "            return c, f\"Convergencia en {i} iteraciones\"\n",
        "\n",
        "        if f(a) * fc < 0:\n",
        "            b = c\n",
        "        else:\n",
        "            a = c\n",
        "\n",
        "    return None, \"No se alcanzó la tolerancia en el número de iteraciones\"\n",
        "\n",
        "# -----------------------------------------------------\n",
        "# Intervalo inicial [1, 2]\n",
        "# -----------------------------------------------------\n",
        "f = lambda x: x**2 - 3\n",
        "raiz, mensaje = biseccion_detallado(f, 1, 2, tol=1e-4)\n",
        "\n",
        "print(\"\\nResultado final:\")\n",
        "print(\"Raíz aproximada:\", raiz)\n",
        "print(\"Mensaje:\", mensaje)\n"
      ],
      "metadata": {
        "colab": {
          "base_uri": "https://localhost:8080/"
        },
        "id": "yRYmaaYPQaJD",
        "outputId": "30a8f01d-e9b1-4d65-af2e-3c60cacada6f"
      },
      "execution_count": 38,
      "outputs": [
        {
          "output_type": "stream",
          "name": "stdout",
          "text": [
            "Iteración  a          b          c          f(c)        \n",
            "----------------------------------------------------\n",
            "1          1.00000    2.00000    1.50000    -0.75000    \n",
            "2          1.50000    2.00000    1.75000    0.06250     \n",
            "3          1.50000    1.75000    1.62500    -0.35938    \n",
            "4          1.62500    1.75000    1.68750    -0.15234    \n",
            "5          1.68750    1.75000    1.71875    -0.04590    \n",
            "6          1.71875    1.75000    1.73438    0.00806     \n",
            "7          1.71875    1.73438    1.72656    -0.01898    \n",
            "8          1.72656    1.73438    1.73047    -0.00548    \n",
            "9          1.73047    1.73438    1.73242    0.00129     \n",
            "10         1.73047    1.73242    1.73145    -0.00210    \n",
            "11         1.73145    1.73242    1.73193    -0.00041    \n",
            "12         1.73193    1.73242    1.73218    0.00044     \n",
            "13         1.73193    1.73218    1.73206    0.00002     \n",
            "\n",
            "Resultado final:\n",
            "Raíz aproximada: 1.7320556640625\n",
            "Mensaje: Convergencia en 13 iteraciones\n"
          ]
        }
      ]
    }
  ]
}