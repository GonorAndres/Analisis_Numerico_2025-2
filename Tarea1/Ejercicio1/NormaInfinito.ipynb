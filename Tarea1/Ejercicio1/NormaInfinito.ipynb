{
  "nbformat": 4,
  "nbformat_minor": 0,
  "metadata": {
    "colab": {
      "provenance": []
    },
    "kernelspec": {
      "name": "python3",
      "display_name": "Python 3"
    },
    "language_info": {
      "name": "python"
    }
  },
  "cells": [
    {
      "cell_type": "markdown",
      "source": [
        "### Calcule la norma infinito"
      ],
      "metadata": {
        "id": "tWcJ1AVmd2fR"
      }
    },
    {
      "cell_type": "code",
      "execution_count": 16,
      "metadata": {
        "colab": {
          "base_uri": "https://localhost:8080/"
        },
        "id": "vEMPVvandrFQ",
        "outputId": "5c9c1db9-41c6-4293-cec7-f1d3c540b4b9"
      },
      "outputs": [
        {
          "output_type": "stream",
          "name": "stdout",
          "text": [
            "18\n"
          ]
        }
      ],
      "source": [
        "#Norma inifinito, maximo de las filas\n",
        "import numpy as np\n",
        "\n",
        "def norma_inf(A):\n",
        "    z = [];\n",
        "    z0 = 0\n",
        "    for i in range(A.shape[0]):\n",
        "        for j in range(A.shape[1]):\n",
        "            z0 = A[j][i]+z0\n",
        "        z.append(z0)\n",
        "        z0=0\n",
        "    return max(z)  #z es la lista de sumas de columnas, entonces le sacamos el maximo\n",
        "\n",
        "A= np.array([\n",
        "    [1, 2, 3],\n",
        "    [4, 5, 6],\n",
        "    [7, 8, 9]\n",
        "])\n",
        "\n",
        "print(norma_inf(A))"
      ]
    }
  ]
}