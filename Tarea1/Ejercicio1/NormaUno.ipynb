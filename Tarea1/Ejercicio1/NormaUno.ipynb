{
  "nbformat": 4,
  "nbformat_minor": 0,
  "metadata": {
    "colab": {
      "provenance": []
    },
    "kernelspec": {
      "name": "python3",
      "display_name": "Python 3"
    },
    "language_info": {
      "name": "python"
    }
  },
  "cells": [
    {
      "cell_type": "markdown",
      "source": [
        "### Calcule la norma Uno"
      ],
      "metadata": {
        "id": "tWcJ1AVmd2fR"
      }
    },
    {
      "cell_type": "code",
      "execution_count": 19,
      "metadata": {
        "colab": {
          "base_uri": "https://localhost:8080/"
        },
        "id": "vEMPVvandrFQ",
        "outputId": "998e8e5a-50b3-4bf8-ecb0-491d403180a5"
      },
      "outputs": [
        {
          "output_type": "stream",
          "name": "stdout",
          "text": [
            "24\n"
          ]
        }
      ],
      "source": [
        "import numpy as np\n",
        "#Norma 1, Suma de los valores absolutos de los componentes, usamos un for para recorrer el vector y un contador que inicie en 0.\n",
        "def norm_1(A):\n",
        "    z1 = 0\n",
        "    for i in range(A.shape[0]):\n",
        "      z=0\n",
        "      for j in range(A.shape[1]):\n",
        "        #sumamos toda la fila\n",
        "        z=z+abs(A[i,j])\n",
        "      # comparamos y solo nos quedamos con el valor más alto\n",
        "      if z1 < z:\n",
        "        z1=z\n",
        "    return z1\n",
        "A= np.array([\n",
        "    [1, 2, 3],\n",
        "    [4, 5, 6],\n",
        "    [7, 8, 9]\n",
        "])\n",
        "print(norm_1(A))\n"
      ]
    }
  ]
}