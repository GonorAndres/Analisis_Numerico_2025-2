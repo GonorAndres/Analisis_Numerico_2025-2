{
  "nbformat": 4,
  "nbformat_minor": 0,
  "metadata": {
    "colab": {
      "provenance": []
    },
    "kernelspec": {
      "name": "python3",
      "display_name": "Python 3"
    },
    "language_info": {
      "name": "python"
    }
  },
  "cells": [
    {
      "cell_type": "markdown",
      "source": [
        "### Desarrollar un programa que calcule el producto curz entre dos vectores tridimensionales."
      ],
      "metadata": {
        "id": "tWcJ1AVmd2fR"
      }
    },
    {
      "cell_type": "code",
      "execution_count": 1,
      "metadata": {
        "colab": {
          "base_uri": "https://localhost:8080/"
        },
        "id": "vEMPVvandrFQ",
        "outputId": "aa498460-f68b-4c06-a931-8c1dab13f5f5"
      },
      "outputs": [
        {
          "output_type": "stream",
          "name": "stdout",
          "text": [
            "[-6, -12, -6]\n"
          ]
        }
      ],
      "source": [
        "import numpy as np\n",
        "\n",
        "#Producto Cruz entre 2 vectores\n",
        "#Definido para A=ai+aj+ak y B=bi+bj+bk\n",
        "#Como AxB=C=(ajbk-akbj)i + (aibk-akbi)j + (aibj-ajbi)k\n",
        "def Prod_cruz(a,b):\n",
        "    C=[(a[1]*b[2]-a[2]*b[1]),(a[0]*b[2]-a[2]*b[0]),(a[0]*b[1]-a[1]*b[0])]\n",
        "    return C\n",
        "\n",
        "A=[1,2,3];B=[7,8,9]\n",
        "print(Prod_cruz(A,B))"
      ]
    }
  ]
}