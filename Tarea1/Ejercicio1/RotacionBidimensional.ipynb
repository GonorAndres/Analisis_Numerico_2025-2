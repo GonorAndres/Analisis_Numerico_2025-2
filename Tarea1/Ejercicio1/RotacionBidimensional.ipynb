{
  "nbformat": 4,
  "nbformat_minor": 0,
  "metadata": {
    "colab": {
      "provenance": []
    },
    "kernelspec": {
      "name": "python3",
      "display_name": "Python 3"
    },
    "language_info": {
      "name": "python"
    }
  },
  "cells": [
    {
      "cell_type": "markdown",
      "source": [
        "### Crear un programa que aplique una rotación de un vector bidimensional mediante una matriz de rotación."
      ],
      "metadata": {
        "id": "tWcJ1AVmd2fR"
      }
    },
    {
      "cell_type": "code",
      "execution_count": 3,
      "metadata": {
        "colab": {
          "base_uri": "https://localhost:8080/"
        },
        "id": "vEMPVvandrFQ",
        "outputId": "27e7f7ae-792d-40d7-ba22-9dc777d6735f"
      },
      "outputs": [
        {
          "output_type": "stream",
          "name": "stdout",
          "text": [
            "[[-1. -5.]\n",
            " [ 5.  7.]]\n"
          ]
        }
      ],
      "source": [
        "#Rotacion Vector bidimensional\n",
        "#Se define la rotacion matricial bidimensional como A_rotada = Matriz de rotacion(tetha)*A\n",
        "#donde la matriz de rotacion es [cos(tetha),-sin(tetha)][sin(tetha),cos(tetha)], donde tetha son los radiandes de rotacion\n",
        "\n",
        "def RVB(A,grad):\n",
        "    rad=np.radians(grad)\n",
        "    MR = [[np.cos(rad),-np.sin(rad)],[np.sin(rad),np.cos(rad)]]\n",
        "    Z=np.dot(MR,A)\n",
        "    return np.round(Z,10)\n",
        "\n",
        "A=[[5,7],[1,5]]\n",
        "print(RVB(A,90))"
      ]
    }
  ]
}