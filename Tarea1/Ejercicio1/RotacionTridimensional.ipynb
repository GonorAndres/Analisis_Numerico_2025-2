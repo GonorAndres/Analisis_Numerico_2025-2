{
  "nbformat": 4,
  "nbformat_minor": 0,
  "metadata": {
    "colab": {
      "provenance": []
    },
    "kernelspec": {
      "name": "python3",
      "display_name": "Python 3"
    },
    "language_info": {
      "name": "python"
    }
  },
  "cells": [
    {
      "cell_type": "markdown",
      "source": [
        "### Crear un programa que aplique una rotación de un vector tridimensional mediante una matriz de rotación."
      ],
      "metadata": {
        "id": "tWcJ1AVmd2fR"
      }
    },
    {
      "cell_type": "code",
      "execution_count": 4,
      "metadata": {
        "colab": {
          "base_uri": "https://localhost:8080/"
        },
        "id": "vEMPVvandrFQ",
        "outputId": "0c0f266d-5d55-4cd8-b62e-f75eb9a10b8f"
      },
      "outputs": [
        {
          "output_type": "stream",
          "name": "stdout",
          "text": [
            "[[ 1.  0.  0.]\n",
            " [ 0.  0. -8.]\n",
            " [ 0.  3.  0.]]\n"
          ]
        }
      ],
      "source": [
        "#Rotacion Vector Tridimensional\n",
        "#Analogamente al ejercicio anterior, solo que dividimos en 3 casos dependiendo del eje de rotacion\n",
        "def RVT(A,grad,axis):\n",
        "    rad=np.radians(grad)\n",
        "    if axis == 'x':\n",
        "        MR = [[1,0,0],[0,np.cos(rad),-np.sin(rad)],[0, np.sin(rad),np.cos(rad)]]\n",
        "    elif axis == 'y':\n",
        "        MR = [[np.cos(rad),0,np,sin(rad)],[0,1,0],[-np.sin(rad),0,np.cos(rad)]]\n",
        "    else:\n",
        "        MR=[[np.cos(rad),-np.sin(rad),0],[np.sin(rad),np.cos(rad),0],[0,0,1]]\n",
        "\n",
        "    return(np.round(np.dot(MR,A),10))\n",
        "\n",
        "A = [[1,0,0],[0,3,0],[0,0,8]]\n",
        "print(RVT(A,90,'x'))"
      ]
    }
  ]
}